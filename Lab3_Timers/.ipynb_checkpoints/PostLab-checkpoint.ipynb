{
 "cells": [
  {
   "cell_type": "code",
   "execution_count": null,
   "metadata": {},
   "outputs": [],
   "source": [
    "import numpy as np\n",
    "\n",
    "f_clk = 8e6 #Hz\n",
    "f_target = 60 #Hz\n",
    "T_target = f_target**-1\n",
    "PSC = np.linspace(0, 2**16-1, 2**16)\n",
    "ARR = np.linspace(0, 2**16-1, 2**16) #f_clk/((PSC+1)*f_target)\n",
    "\n",
    "for i in range(len(PSC)):\n",
    "    for j in range(len(ARR)):\n",
    "        f_calc = f_clk/((PSC[i]+1)*ARR[j])\n",
    "        \n",
    "desRange = .25 #+-\n",
    "f_des = np.empty(0)\n",
    "\n",
    "for i in f_calc:\n",
    "    if i > (f_target-desRange) and i < (f_target+desRange):\n",
    "        f_des = np.append(f_des, i)\n",
    "\n",
    "print(f_calc)\n",
    "print('f_des: ', f_des)\n",
    "print('PSC')"
   ]
  },
  {
   "cell_type": "code",
   "execution_count": 35,
   "metadata": {},
   "outputs": [
    {
     "name": "stdout",
     "output_type": "stream",
     "text": [
      "65536\n"
     ]
    }
   ],
   "source": [
    "print(2**16)"
   ]
  },
  {
   "cell_type": "code",
   "execution_count": null,
   "metadata": {},
   "outputs": [],
   "source": []
  }
 ],
 "metadata": {
  "kernelspec": {
   "display_name": "Python 3",
   "language": "python",
   "name": "python3"
  },
  "language_info": {
   "codemirror_mode": {
    "name": "ipython",
    "version": 3
   },
   "file_extension": ".py",
   "mimetype": "text/x-python",
   "name": "python",
   "nbconvert_exporter": "python",
   "pygments_lexer": "ipython3",
   "version": "3.7.4"
  }
 },
 "nbformat": 4,
 "nbformat_minor": 2
}
