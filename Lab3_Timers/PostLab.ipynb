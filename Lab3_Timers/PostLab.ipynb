{
 "cells": [
  {
   "cell_type": "code",
   "execution_count": 66,
   "metadata": {},
   "outputs": [
    {
     "name": "stdout",
     "output_type": "stream",
     "text": [
      "f_des:  [60.00060001 59.99925001]\n",
      "ARR:  [44444.]\n",
      "ARR:  [44445.]\n"
     ]
    },
    {
     "name": "stderr",
     "output_type": "stream",
     "text": [
      "/Users/jfrancis/opt/anaconda3/lib/python3.7/site-packages/ipykernel_launcher.py:12: RuntimeWarning: divide by zero encountered in true_divide\n",
      "  if sys.path[0] == '':\n"
     ]
    }
   ],
   "source": [
    "import numpy as np\n",
    "\n",
    "f_clk = 8e6 #Hz\n",
    "f_target = 60 #Hz\n",
    "T_target = f_target**-1\n",
    "# PSC = np.linspace(0, 2**16-1, 2**16)\n",
    "PSC = 2;\n",
    "ARR = np.linspace(0, 2**16-1, 2**16) #f_clk/((PSC+1)*f_target)\n",
    "\n",
    "# for i in range(len(PSC)):\n",
    "#     for j in range(len(ARR)):\n",
    "f_calc = f_clk/((PSC+1)*ARR)\n",
    "        \n",
    "desRange = .001 #+-\n",
    "f_des = np.empty(0)\n",
    "\n",
    "for i in f_calc:\n",
    "    if i > (f_target-desRange) and i < (f_target+desRange):\n",
    "        f_des = np.append(f_des, i)\n",
    "\n",
    "\n",
    "print('f_des: ', f_des)\n",
    "# print('PSC: ', PSC[np.where(f_calc == f_des[0])])\n",
    "print('ARR: ', ARR[np.where(f_calc == f_des[0])])\n",
    "# print('PSC: ', PSC[np.where(f_calc == f_des[1])])\n",
    "print('ARR: ', ARR[np.where(f_calc == f_des[1])])"
   ]
  },
  {
   "cell_type": "code",
   "execution_count": 35,
   "metadata": {},
   "outputs": [
    {
     "name": "stdout",
     "output_type": "stream",
     "text": [
      "65536\n"
     ]
    }
   ],
   "source": [
    "print(2**16)"
   ]
  },
  {
   "cell_type": "code",
   "execution_count": null,
   "metadata": {},
   "outputs": [],
   "source": []
  }
 ],
 "metadata": {
  "kernelspec": {
   "display_name": "Python 3",
   "language": "python",
   "name": "python3"
  },
  "language_info": {
   "codemirror_mode": {
    "name": "ipython",
    "version": 3
   },
   "file_extension": ".py",
   "mimetype": "text/x-python",
   "name": "python",
   "nbconvert_exporter": "python",
   "pygments_lexer": "ipython3",
   "version": "3.7.4"
  }
 },
 "nbformat": 4,
 "nbformat_minor": 2
}
